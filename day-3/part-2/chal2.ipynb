{
 "cells": [
  {
   "cell_type": "code",
   "execution_count": 1,
   "id": "ccc5e588-68e5-44fd-953e-eade228c1d24",
   "metadata": {
    "tags": []
   },
   "outputs": [
    {
     "name": "stdout",
     "output_type": "stream",
     "text": [
      "['4', '2', '3', '.', '.', '.', '.', '.', '.', '.', '.', '.', '1', '4', '.', '.']\n",
      "['.', '.', '*', '.', '.', '.', '.', '.', '.', '.', '.', '*', '$', '*', '.', '.']\n",
      "['.', '.', '.', '3', '2', '.', '.', '.', '.', '.', '.', '*', '6', '7', '.', '.']\n",
      "['.', '.', '1', '*', '9', '7', '.', '3', '%', '.', '7', '7', '.', '.', '5', '4']\n"
     ]
    }
   ],
   "source": [
    "import re\n",
    "\n",
    "\"\"\"\n",
    "example:\n",
    "\n",
    "123.........14..\n",
    "..*........*$*..\n",
    "...32......*1...\n",
    "..1*4..3%.4....4\n",
    "\n",
    "\"\"\"\n",
    "\n",
    "filepath = 'example.txt'\n",
    "lines = list()\n",
    "\n",
    "with open(filepath, 'r') as f:\n",
    "    for line in f:\n",
    "        line = line.splitlines()[0]\n",
    "        l = [char for char in line]\n",
    "        print(l)\n",
    "        lines.append(l)\n",
    "        "
   ]
  },
  {
   "cell_type": "code",
   "execution_count": 2,
   "id": "367ecc45-3b4c-474a-adce-db2f9558eefd",
   "metadata": {
    "tags": []
   },
   "outputs": [
    {
     "name": "stdout",
     "output_type": "stream",
     "text": [
      "['4', '2', '3', '.', '.', '.', '.', '.', '.', '.', '.', '.', '1', '4', '.', '.']\n",
      "['.', '.', '*', '.', '.', '.', '.', '.', '.', '.', '.', '*', '$', '*', '.', '.']\n",
      "['.', '.', '.', '3', '2', '.', '.', '.', '.', '.', '.', '*', '6', '7', '.', '.']\n",
      "['.', '.', '1', '*', '9', '7', '.', '3', '%', '.', '7', '7', '.', '.', '5', '4']\n",
      "\n",
      "Transformed (index map):\n",
      "['0', '0', '0', '.', '.', '.', '.', '.', '.', '.', '.', '.', '1', '1', '.', '.']\n",
      "['.', '.', '*', '.', '.', '.', '.', '.', '.', '.', '.', '*', '$', '*', '.', '.']\n",
      "['.', '.', '.', '2', '2', '.', '.', '.', '.', '.', '.', '*', '3', '3', '.', '.']\n",
      "['.', '.', '4', '*', '5', '5', '.', '6', '%', '.', '7', '7', '.', '.', '8', '8']\n"
     ]
    }
   ],
   "source": [
    "lines2 = [line[:] for line in lines]\n",
    "index = -1\n",
    "lastWasNumeric = False\n",
    "\n",
    "for line in lines2:\n",
    "    for i, char in enumerate(line):\n",
    "        if not str(char).isnumeric():\n",
    "            lastWasNumeric = False\n",
    "            continue\n",
    "            \n",
    "        if str(char).isnumeric() and lastWasNumeric:\n",
    "            line[i] = str(index)\n",
    "            continue\n",
    "            \n",
    "        if str(char).isnumeric() and not lastWasNumeric:\n",
    "            lastWasNumeric = True;\n",
    "            index += 1\n",
    "            line[i] = str(index)\n",
    "         \n",
    "for line in lines:\n",
    "    print(line)\n",
    "\n",
    "print('\\nTransformed (index map):')\n",
    "for line in lines2:\n",
    "    print(line)\n"
   ]
  },
  {
   "cell_type": "code",
   "execution_count": 3,
   "id": "b2c17cc6-9cf6-46b7-8ab6-f3a76977ef23",
   "metadata": {
    "tags": []
   },
   "outputs": [
    {
     "name": "stdout",
     "output_type": "stream",
     "text": [
      "Consecutive numbers:\n",
      " ['423', '14', '32', '67', '1', '97', '3', '77', '54']\n"
     ]
    }
   ],
   "source": [
    "with open(filepath, 'r') as f:\n",
    "    file = f.read()\n",
    "    numbers = re.findall('\\d+', file)\n",
    "    print('Consecutive numbers:\\n',numbers)"
   ]
  },
  {
   "cell_type": "code",
   "execution_count": 4,
   "id": "2167a967-2e1f-4166-aae8-ea49e45f57ee",
   "metadata": {
    "tags": []
   },
   "outputs": [
    {
     "name": "stdout",
     "output_type": "stream",
     "text": [
      "Possible gears (numbers position):\n",
      " [[(0, 1), (0, 2), (2, 3)], [(0, 12), (2, 12)], [(0, 12), (0, 13), (2, 12), (2, 13)], [(2, 12), (3, 10), (3, 11)], [(2, 3), (2, 4), (3, 2), (3, 4)]]\n",
      "Possible gears (index):\n",
      " [{'0', '2'}, {'3', '1'}, {'3', '1'}, {'3', '7'}, {'4', '5', '2'}]\n",
      "Possible gears (index) with two adjacent numbers:\n",
      " [{'0', '2'}, {'3', '1'}, {'3', '1'}, {'3', '7'}]\n"
     ]
    }
   ],
   "source": [
    "possibleGears = list()\n",
    "\n",
    "for i, line in enumerate(lines2):\n",
    "    maxRange = range(0,len(line))\n",
    "    for j, char in enumerate(line):\n",
    "        if(char == '*'):\n",
    "            possiblePositions = list()\n",
    "            possiblePositions.extend([(i-1+n//3, j-1+n%3) for n in range(9)])\n",
    "            # Possible gears\n",
    "            possibleGears.append(possiblePositions)\n",
    "\n",
    "for gear in possibleGears:\n",
    "    for position in gear.copy():\n",
    "        i, j = position\n",
    "        if (i not in range(len(lines2)) or j not in maxRange or not lines2[i][j].isnumeric()):\n",
    "            gear.remove(position)\n",
    "\n",
    "print('Possible gears (numbers position):\\n',possibleGears)\n",
    "\n",
    "for c, gear in enumerate(possibleGears):\n",
    "    for v, position in enumerate(gear.copy()):\n",
    "        i, j = position\n",
    "        gear[v] = lines2[i][j]\n",
    "    \n",
    "    possibleGears[c] = set(gear)\n",
    "            \n",
    "print('Possible gears (index):\\n',possibleGears)\n",
    "\n",
    "for gear in possibleGears.copy():\n",
    "    if len(gear) != 2:\n",
    "        possibleGears.remove(gear)\n",
    "        \n",
    "print('Possible gears (index) with two adjacent numbers:\\n',possibleGears)"
   ]
  },
  {
   "cell_type": "code",
   "execution_count": 5,
   "id": "612a876e-1deb-4e8c-91d7-4cc778e78798",
   "metadata": {
    "tags": []
   },
   "outputs": [
    {
     "name": "stdout",
     "output_type": "stream",
     "text": [
      "20571\n"
     ]
    }
   ],
   "source": [
    "sumOfGears = 0\n",
    "\n",
    "for gear in possibleGears:\n",
    "    engineSchematics = list()\n",
    "    engineSchematics = [int(numbers[int(n)]) for n in gear]\n",
    "    sumOfGears += engineSchematics[0]*engineSchematics[1]\n",
    "\n",
    "print(sumOfGears)"
   ]
  }
 ],
 "metadata": {
  "kernelspec": {
   "display_name": "Python 3 (ipykernel)",
   "language": "python",
   "name": "python3"
  },
  "language_info": {
   "codemirror_mode": {
    "name": "ipython",
    "version": 3
   },
   "file_extension": ".py",
   "mimetype": "text/x-python",
   "name": "python",
   "nbconvert_exporter": "python",
   "pygments_lexer": "ipython3",
   "version": "3.11.2"
  }
 },
 "nbformat": 4,
 "nbformat_minor": 5
}
