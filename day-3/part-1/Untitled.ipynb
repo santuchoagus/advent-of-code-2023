{
 "cells": [
  {
   "cell_type": "code",
   "execution_count": 3,
   "id": "cdb26916-6c2d-4cb2-86f7-afb8451f6768",
   "metadata": {
    "tags": []
   },
   "outputs": [
    {
     "name": "stdout",
     "output_type": "stream",
     "text": [
      "10 8\n"
     ]
    }
   ],
   "source": [
    "import math as m, re\n",
    "\n",
    "board = list(open('example2.txt'))\n",
    "chars = {(r, c): [] for r in range(3) for c in range(3)\n",
    "                    if board[r][c] not in '01234566789.'}\n",
    "\n",
    "for r, row in enumerate(board):\n",
    "    for n in re.finditer(r'\\d+', row):\n",
    "        edge = {(r, c) for r in (r-1, r, r+1)\n",
    "                       for c in range(n.start()-1, n.end()+1)}\n",
    "\n",
    "        for o in edge & chars.keys():\n",
    "            chars[o].append(int(n.group()))\n",
    "\n",
    "print(sum(sum(p)    for p in chars.values()),\n",
    "      sum(m.prod(p) for p in chars.values() if len(p)==2))"
   ]
  },
  {
   "cell_type": "code",
   "execution_count": 2,
   "id": "436c9d2a-02c7-41eb-81ae-154191528101",
   "metadata": {
    "tags": []
   },
   "outputs": [
    {
     "name": "stdout",
     "output_type": "stream",
     "text": [
      "530495 80253814\n"
     ]
    }
   ],
   "source": [
    "import math as m, re\n",
    "\n",
    "board = list(open('input.txt'))\n",
    "chars = {(r, c): [] for r in range(140) for c in range(140)\n",
    "                    if board[r][c] not in '01234566789.'}\n",
    "\n",
    "for r, row in enumerate(board):\n",
    "    for n in re.finditer(r'\\d+', row):\n",
    "        edge = {(r, c) for r in (r-1, r, r+1)\n",
    "                       for c in range(n.start()-1, n.end()+1)}\n",
    "\n",
    "        for o in edge & chars.keys():\n",
    "            chars[o].append(int(n.group()))\n",
    "\n",
    "print(sum(sum(p)    for p in chars.values()),\n",
    "      sum(m.prod(p) for p in chars.values() if len(p)==2))"
   ]
  },
  {
   "cell_type": "code",
   "execution_count": 3,
   "id": "de032798-61cc-442e-9e7c-08c7e338583f",
   "metadata": {
    "tags": []
   },
   "outputs": [],
   "source": [
    "chars = {(r, c): [] for r in range (3) for c in range(3)}"
   ]
  },
  {
   "cell_type": "code",
   "execution_count": 13,
   "id": "7e3420d8-b384-42fb-bc6d-ae67b33677b1",
   "metadata": {
    "tags": []
   },
   "outputs": [
    {
     "name": "stdout",
     "output_type": "stream",
     "text": [
      "{(1, 0): [], (1, 2): []}\n"
     ]
    }
   ],
   "source": [
    "board = list(open('example2.txt'))\n",
    "chars = {(r, c): [] for r in range (3) for c in range(3)\n",
    "                     if board[r][c] not in '0123456789.'}\n",
    "print(chars)"
   ]
  },
  {
   "cell_type": "code",
   "execution_count": 44,
   "id": "e116e3b5-3a14-42f5-ab73-a86faf550b68",
   "metadata": {},
   "outputs": [
    {
     "data": {
      "text/plain": [
       "[]"
      ]
     },
     "execution_count": 44,
     "metadata": {},
     "output_type": "execute_result"
    }
   ],
   "source": [
    "re.findall(r'(\\d{4,})\\1','11112222')"
   ]
  },
  {
   "cell_type": "code",
   "execution_count": 18,
   "id": "ecc09b3a-133f-4fcb-9aaf-ed78102f752d",
   "metadata": {
    "tags": []
   },
   "outputs": [
    {
     "name": "stdout",
     "output_type": "stream",
     "text": [
      "0 .4.\n",
      "\n",
      "n-> <re.Match object; span=(1, 2), match='4'>\n",
      "1 *.*\n",
      "\n",
      "2 .1.\n",
      "n-> <re.Match object; span=(1, 2), match='1'>\n"
     ]
    }
   ],
   "source": [
    "for r, row in enumerate(board):\n",
    "    print(r, row)\n",
    "    for n in re.finditer(r'\\d+', row):\n",
    "        print('n-> {}'.format(n))"
   ]
  },
  {
   "cell_type": "code",
   "execution_count": 11,
   "id": "96a214b5-f560-41b2-910d-4779928b368d",
   "metadata": {
    "tags": []
   },
   "outputs": [
    {
     "name": "stdout",
     "output_type": "stream",
     "text": [
      "{(0, 0): [], (0, 1): [], (0, 2): [], (1, 0): [], (1, 1): [], (1, 2): [], (2, 0): [], (2, 1): [], (2, 2): []}\n"
     ]
    },
    {
     "data": {
      "text/plain": [
       "dict"
      ]
     },
     "execution_count": 11,
     "metadata": {},
     "output_type": "execute_result"
    }
   ],
   "source": [
    "print(chars)\n",
    "for e in chars:\n",
    "    break\n",
    "\n",
    "type(chars)"
   ]
  },
  {
   "cell_type": "code",
   "execution_count": null,
   "id": "02834ec9-b0cc-4ac6-b8bd-dc4ffd132dd7",
   "metadata": {},
   "outputs": [],
   "source": []
  }
 ],
 "metadata": {
  "kernelspec": {
   "display_name": "Python 3 (ipykernel)",
   "language": "python",
   "name": "python3"
  },
  "language_info": {
   "codemirror_mode": {
    "name": "ipython",
    "version": 3
   },
   "file_extension": ".py",
   "mimetype": "text/x-python",
   "name": "python",
   "nbconvert_exporter": "python",
   "pygments_lexer": "ipython3",
   "version": "3.11.2"
  }
 },
 "nbformat": 4,
 "nbformat_minor": 5
}
