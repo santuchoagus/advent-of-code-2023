{
 "cells": [
  {
   "cell_type": "code",
   "execution_count": 1,
   "id": "93b7d50d-611f-464f-b9fd-6b609faa76e9",
   "metadata": {
    "tags": []
   },
   "outputs": [
    {
     "data": {
      "text/plain": [
       "'\\nexample:\\n\\n123.........14.......7\\n..*.........$.....4...\\n...32.......1..../....\\n.......3%.4....4..23..\\n\\n'"
      ]
     },
     "execution_count": 1,
     "metadata": {},
     "output_type": "execute_result"
    }
   ],
   "source": [
    "import re\n",
    "\n",
    "\"\"\"\n",
    "example:\n",
    "\n",
    "123.........14.......7\n",
    "..*.........$.....4...\n",
    "...32.......1..../....\n",
    ".......3%.4....4..23..\n",
    "\n",
    "\"\"\""
   ]
  },
  {
   "cell_type": "code",
   "execution_count": 2,
   "id": "582e9667-c852-43a2-b144-34130c72486d",
   "metadata": {
    "tags": []
   },
   "outputs": [
    {
     "name": "stdout",
     "output_type": "stream",
     "text": [
      "['#', '1', '0', '0', '*', '3', '2', '.', '.', '.', '.', '.', '1', '4', '(', '.']\n",
      "['.', '.', '.', '.', '.', '.', '.', '.', '$', '*', '.', '.', '.', '.', '.', '.']\n",
      "['.', '.', '.', '3', '2', '.', '.', '.', '.', '$', '.', '.', '1', '.', '*', '.']\n",
      "['.', '.', '.', '.', '.', '.', '.', '3', '.', '.', '4', '.', '.', '.', '.', '4']\n"
     ]
    }
   ],
   "source": [
    "filepath = 'example.txt'\n",
    "lines = list()\n",
    "with open(filepath, 'r') as f:\n",
    "    for line in f:\n",
    "        line = line.splitlines()[0]\n",
    "        l = [char for char in line]\n",
    "        print(l)\n",
    "        lines.append(l)"
   ]
  },
  {
   "cell_type": "code",
   "execution_count": 3,
   "id": "367ecc45-3b4c-474a-adce-db2f9558eefd",
   "metadata": {
    "tags": []
   },
   "outputs": [
    {
     "name": "stdout",
     "output_type": "stream",
     "text": [
      "['#', '1', '0', '0', '*', '3', '2', '.', '.', '.', '.', '.', '1', '4', '(', '.']\n",
      "['.', '.', '.', '.', '.', '.', '.', '.', '$', '*', '.', '.', '.', '.', '.', '.']\n",
      "['.', '.', '.', '3', '2', '.', '.', '.', '.', '$', '.', '.', '1', '.', '*', '.']\n",
      "['.', '.', '.', '.', '.', '.', '.', '3', '.', '.', '4', '.', '.', '.', '.', '4']\n",
      "\n",
      "\n",
      "['#', '0', '0', '0', '*', '1', '1', '.', '.', '.', '.', '.', '2', '2', '(', '.']\n",
      "['.', '.', '.', '.', '.', '.', '.', '.', '$', '*', '.', '.', '.', '.', '.', '.']\n",
      "['.', '.', '.', '3', '3', '.', '.', '.', '.', '$', '.', '.', '4', '.', '*', '.']\n",
      "['.', '.', '.', '.', '.', '.', '.', '5', '.', '.', '6', '.', '.', '.', '.', '7']\n"
     ]
    }
   ],
   "source": [
    "lines2 = [line[:] for line in lines]\n",
    "index = -1\n",
    "lastWasNumeric = False\n",
    "\n",
    "for line in lines2:\n",
    "    for i, char in enumerate(line):\n",
    "        if not str(char).isnumeric():\n",
    "            lastWasNumeric = False\n",
    "            continue\n",
    "            \n",
    "        if str(char).isnumeric() and lastWasNumeric:\n",
    "            line[i] = str(index)\n",
    "            continue\n",
    "            \n",
    "        if str(char).isnumeric() and not lastWasNumeric:\n",
    "            lastWasNumeric = True;\n",
    "            index += 1\n",
    "            line[i] = str(index)\n",
    "         \n",
    "for line in lines:\n",
    "    print(line)\n",
    "    \n",
    "print('\\n')\n",
    "for line in lines2:\n",
    "    print(line)"
   ]
  },
  {
   "cell_type": "code",
   "execution_count": 4,
   "id": "b2c17cc6-9cf6-46b7-8ab6-f3a76977ef23",
   "metadata": {
    "tags": []
   },
   "outputs": [
    {
     "name": "stdout",
     "output_type": "stream",
     "text": [
      "['100', '32', '14', '32', '1', '3', '4', '4']\n"
     ]
    }
   ],
   "source": [
    "with open(filepath, 'r') as f:\n",
    "    file = f.read()\n",
    "    numbers = re.findall('\\d+', file)\n",
    "    print(numbers)"
   ]
  },
  {
   "cell_type": "code",
   "execution_count": 5,
   "id": "c7bd5511-4c89-47a8-88bb-afe21cc1fc2d",
   "metadata": {
    "tags": []
   },
   "outputs": [
    {
     "name": "stdout",
     "output_type": "stream",
     "text": [
      "154\n"
     ]
    }
   ],
   "source": [
    "found = set()\n",
    "possiblePositions = set()\n",
    "\n",
    "for i, line in enumerate(lines2):\n",
    "    maxRange = range(0,len(line))\n",
    "    for j, char in enumerate(line):\n",
    "        if(not char.isnumeric() and char != '.'):\n",
    "            possiblePositions.update([(i-1+n//3, j-1+n%3) for n in range(9)])\n",
    "            \n",
    "for position in possiblePositions:\n",
    "    i, j = position\n",
    "    if (i in maxRange and j in maxRange and lines2[i][j].isnumeric()):\n",
    "        #print(i,j,position, lines[i][j], lines2[i][j])\n",
    "        found.add(lines2[i][j])\n",
    "        engineSchematics = [int(numbers[int(n)]) for n in found]\n",
    "\n",
    "print(sum(engineSchematics))\n",
    "    \n",
    "\n",
    "            "
   ]
  }
 ],
 "metadata": {
  "kernelspec": {
   "display_name": "Python 3 (ipykernel)",
   "language": "python",
   "name": "python3"
  },
  "language_info": {
   "codemirror_mode": {
    "name": "ipython",
    "version": 3
   },
   "file_extension": ".py",
   "mimetype": "text/x-python",
   "name": "python",
   "nbconvert_exporter": "python",
   "pygments_lexer": "ipython3",
   "version": "3.11.2"
  }
 },
 "nbformat": 4,
 "nbformat_minor": 5
}
