{
 "cells": [
  {
   "cell_type": "code",
   "execution_count": 1,
   "id": "93b7d50d-611f-464f-b9fd-6b609faa76e9",
   "metadata": {
    "tags": []
   },
   "outputs": [],
   "source": [
    "import re"
   ]
  },
  {
   "cell_type": "code",
   "execution_count": 2,
   "id": "582e9667-c852-43a2-b144-34130c72486d",
   "metadata": {
    "tags": []
   },
   "outputs": [],
   "source": [
    "filepath = 'input.txt'\n",
    "lines = list()\n",
    "\n",
    "f = open(filepath)\n",
    "gamesList = list()\n",
    "for line in f:\n",
    "    winNums, yourNums = re.sub(r'Card.*: ','', line).split('|')\n",
    "    winNumsArr = [int(n) for n in re.findall(r'\\d+', winNums)]\n",
    "    yourNumsArr = [int(n) for n in re.findall(r'\\d+', yourNums)]\n",
    "    gamesList.append((winNumsArr, yourNumsArr))"
   ]
  },
  {
   "cell_type": "code",
   "execution_count": 3,
   "id": "367ecc45-3b4c-474a-adce-db2f9558eefd",
   "metadata": {
    "tags": []
   },
   "outputs": [
    {
     "name": "stdout",
     "output_type": "stream",
     "text": [
      "21959\n"
     ]
    }
   ],
   "source": [
    "games = [line[:] for line in gamesList]\n",
    "score = 0\n",
    "for game in games:\n",
    "    winNums, yourNums = game\n",
    "    commonNums = [num for num in yourNums if num in winNums]\n",
    "    score += 2**(len(commonNums)-1) if len(commonNums) > 0 else 0\n",
    "    \n",
    "print(score)"
   ]
  }
 ],
 "metadata": {
  "kernelspec": {
   "display_name": "Python 3 (ipykernel)",
   "language": "python",
   "name": "python3"
  },
  "language_info": {
   "codemirror_mode": {
    "name": "ipython",
    "version": 3
   },
   "file_extension": ".py",
   "mimetype": "text/x-python",
   "name": "python",
   "nbconvert_exporter": "python",
   "pygments_lexer": "ipython3",
   "version": "3.11.2"
  }
 },
 "nbformat": 4,
 "nbformat_minor": 5
}
