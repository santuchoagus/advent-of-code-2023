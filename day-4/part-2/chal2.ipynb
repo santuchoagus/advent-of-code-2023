{
 "cells": [
  {
   "cell_type": "code",
   "execution_count": 1,
   "id": "93b7d50d-611f-464f-b9fd-6b609faa76e9",
   "metadata": {
    "tags": []
   },
   "outputs": [],
   "source": [
    "import re"
   ]
  },
  {
   "cell_type": "code",
   "execution_count": 2,
   "id": "582e9667-c852-43a2-b144-34130c72486d",
   "metadata": {
    "tags": []
   },
   "outputs": [],
   "source": [
    "filepath = 'input.txt'\n",
    "lines = list()\n",
    "\n",
    "f = open(filepath)\n",
    "games = list()\n",
    "for line in f:\n",
    "    winNums, yourNums = re.sub(r'Card.*: ','', line).split('|')\n",
    "    winNumsArr = [int(n) for n in re.findall(r'\\d+', winNums)]\n",
    "    yourNumsArr = [int(n) for n in re.findall(r'\\d+', yourNums)]\n",
    "    games.append((winNumsArr, yourNumsArr))"
   ]
  },
  {
   "cell_type": "code",
   "execution_count": 3,
   "id": "367ecc45-3b4c-474a-adce-db2f9558eefd",
   "metadata": {
    "tags": []
   },
   "outputs": [],
   "source": [
    "cards = dict()\n",
    "\n",
    "for gameNum, game in enumerate(games):\n",
    "    winNums, yourNums = game\n",
    "    commonNums = [num for num in yourNums if num in winNums]\n",
    "    cards[gameNum+1] = [len(commonNums), 1]"
   ]
  },
  {
   "cell_type": "code",
   "execution_count": 4,
   "id": "c0f97d10-3b67-4d30-87c5-3ea26766e5c3",
   "metadata": {
    "tags": []
   },
   "outputs": [
    {
     "name": "stdout",
     "output_type": "stream",
     "text": [
      "5132675\n"
     ]
    }
   ],
   "source": [
    "cardCount = 0\n",
    "\n",
    "for k, (v, copies) in cards.items():\n",
    "    cardCount += copies\n",
    "    for i in range(1,v+1):\n",
    "        if(k+i in cards.keys()):\n",
    "            cards[k+i][1] += 1*copies\n",
    "        \n",
    "print(cardCount)"
   ]
  }
 ],
 "metadata": {
  "kernelspec": {
   "display_name": "Python 3 (ipykernel)",
   "language": "python",
   "name": "python3"
  },
  "language_info": {
   "codemirror_mode": {
    "name": "ipython",
    "version": 3
   },
   "file_extension": ".py",
   "mimetype": "text/x-python",
   "name": "python",
   "nbconvert_exporter": "python",
   "pygments_lexer": "ipython3",
   "version": "3.11.2"
  }
 },
 "nbformat": 4,
 "nbformat_minor": 5
}
