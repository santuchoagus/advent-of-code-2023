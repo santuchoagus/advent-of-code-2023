{
 "cells": [
  {
   "cell_type": "code",
   "execution_count": 1,
   "id": "a5a4171a-3e21-4fae-8f47-53de40d8b64d",
   "metadata": {},
   "outputs": [],
   "source": [
    "import re"
   ]
  },
  {
   "cell_type": "code",
   "execution_count": 2,
   "id": "a3401f08-cab4-42db-b8c7-6d96623aad22",
   "metadata": {
    "tags": []
   },
   "outputs": [],
   "source": [
    "filepath = 'example.txt'\n",
    "file = open(filepath).read()\n",
    "lines = file.splitlines()\n",
    "\n",
    "seeds = lines[0].replace('seeds: ', '').split()\n",
    "seeds = [int(seed) for seed in seeds]\n",
    "del lines[0]\n",
    "del lines[0]\n",
    "\n",
    "maps = dict()\n",
    "\n",
    "for line in lines:\n",
    "    match = re.search(r':',line)\n",
    "    if match:\n",
    "        maps[line] = list()\n",
    "    elif line:\n",
    "        list(maps.values())[-1].append(line.split())"
   ]
  },
  {
   "cell_type": "code",
   "execution_count": 3,
   "id": "019e4793-c7c2-4813-8dab-29b9698f937d",
   "metadata": {
    "tags": []
   },
   "outputs": [],
   "source": [
    "ranges_dict = dict.fromkeys(maps.keys(),[])\n",
    "\n",
    "for key, m in maps.items():\n",
    "    m = [[int(num) for num in row] for row in m]\n",
    "    m = [(range(row[1], row[1] + row[2]), row[0] - row[1]) for row in m]\n",
    "    ranges_dict[key] = m"
   ]
  },
  {
   "cell_type": "code",
   "execution_count": 4,
   "id": "85e6e184-3b67-48ab-848c-0512cb648cd1",
   "metadata": {
    "tags": []
   },
   "outputs": [
    {
     "name": "stdout",
     "output_type": "stream",
     "text": [
      "# seed-to-soil map:\n",
      "[79, 14, 55, 13] -->\t [] -48\n",
      "range(98, 100) [79, 14, 55, 13]\n",
      "[14, 13] -->\t [81, 57] 2\n",
      "range(50, 98) [14, 13]\n",
      "\n",
      " from [79, 14, 55, 13] to ----> [81, 57, 14, 13] \n",
      " \n",
      "\n",
      "# soil-to-fertilizer map:\n",
      "[81, 57, 14, 13] -->\t [] -15\n",
      "range(15, 52) [81, 57, 14, 13]\n",
      "[81, 57, 14, 13] -->\t [] -15\n",
      "range(52, 54) [81, 57, 14, 13]\n",
      "[81, 57] -->\t [53, 52] 39\n",
      "range(0, 15) [81, 57]\n",
      "\n",
      " from [81, 57, 14, 13] to ----> [53, 52, 81, 57] \n",
      " \n",
      "\n",
      "# fertilizer-to-water map:\n",
      "[52, 81] -->\t [49, 53] -4\n",
      "range(53, 61) [52, 81]\n",
      "[81] -->\t [49, 53, 41] -11\n",
      "range(11, 53) [81]\n",
      "[81] -->\t [49, 53, 41] 42\n",
      "range(0, 7) [81]\n",
      "[81] -->\t [49, 53, 41] 50\n",
      "range(7, 11) [81]\n",
      "\n",
      " from [53, 52, 81, 57] to ----> [49, 53, 41, 81] \n",
      " \n",
      "\n",
      "# water-to-light map:\n",
      "[49, 53, 41, 81] -->\t [] 70\n",
      "range(18, 25) [49, 53, 41, 81]\n",
      "[] -->\t [42, 46, 34, 74] -7\n",
      "range(25, 95) []\n",
      "\n",
      " from [49, 53, 41, 81] to ----> [42, 46, 34, 74] \n",
      " \n",
      "\n",
      "# light-to-temperature map:\n",
      "[42, 46, 34, 74] -->\t [] -32\n",
      "range(77, 100) [42, 46, 34, 74]\n",
      "[42, 34, 74] -->\t [82] 36\n",
      "range(45, 64) [42, 34, 74]\n",
      "[42, 34] -->\t [82, 78] 4\n",
      "range(64, 77) [42, 34]\n",
      "\n",
      " from [42, 46, 34, 74] to ----> [82, 78, 42, 34] \n",
      " \n",
      "\n",
      "# temperature-to-humidity map:\n",
      "[82, 78, 42, 34] -->\t [] -69\n",
      "range(69, 70) [82, 78, 42, 34]\n",
      "[82, 78] -->\t [43, 35] 1\n",
      "range(0, 69) [82, 78]\n",
      "\n",
      " from [82, 78, 42, 34] to ----> [43, 35, 82, 78] \n",
      " \n",
      "\n",
      "# humidity-to-location map:\n",
      "[43, 35] -->\t [86, 82] 4\n",
      "range(56, 93) [43, 35]\n",
      "[43, 35] -->\t [86, 82] -37\n",
      "range(93, 97) [43, 35]\n",
      "\n",
      " from [43, 35, 82, 78] to ----> [86, 82, 43, 35] \n",
      " \n",
      "\n"
     ]
    }
   ],
   "source": [
    "sources = dict()\n",
    "sources['seed-to-soil map:'] = seeds\n",
    "sourcesKeys = list(ranges_dict.keys())\n",
    "\n",
    "for i , (key, ranges) in enumerate(ranges_dict.items()):\n",
    "    print('#',key)\n",
    "    nextSource = list()\n",
    "    source = sources[key]\n",
    "    \n",
    "    for rgAndOffset in ranges:\n",
    "        rg, offset = rgAndOffset\n",
    "        \n",
    "        inRangeList = [sc for sc in sources[key] if sc in rg]\n",
    "        nextSource = nextSource + [sc + offset for sc in sources[key] if sc in rg]\n",
    "        source = [n for n in source if n not in inRangeList]\n",
    "        \n",
    "        print(source,'-->\\t',nextSource, offset)\n",
    "        print(rg,source)\n",
    "    \n",
    "    nextSource = nextSource + source\n",
    "        \n",
    "    print('\\n',f'from {sources[key]} to ----> {nextSource}','\\n','\\n')\n",
    "    \n",
    "    if key == list(ranges_dict.keys())[-1]:\n",
    "        continue\n",
    "    sources[sourcesKeys[i + 1]] = nextSource[:]\n",
    "        \n",
    "    "
   ]
  },
  {
   "cell_type": "code",
   "execution_count": null,
   "id": "8cb0bc0f-2fea-4fb7-96ba-29476f032997",
   "metadata": {},
   "outputs": [],
   "source": []
  }
 ],
 "metadata": {
  "kernelspec": {
   "display_name": "Python 3 (ipykernel)",
   "language": "python",
   "name": "python3"
  },
  "language_info": {
   "codemirror_mode": {
    "name": "ipython",
    "version": 3
   },
   "file_extension": ".py",
   "mimetype": "text/x-python",
   "name": "python",
   "nbconvert_exporter": "python",
   "pygments_lexer": "ipython3",
   "version": "3.11.2"
  }
 },
 "nbformat": 4,
 "nbformat_minor": 5
}
