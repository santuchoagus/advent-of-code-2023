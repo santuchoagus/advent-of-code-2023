{
 "cells": [
  {
   "cell_type": "code",
   "execution_count": 1,
   "id": "da0d3b78-de41-43ed-89ca-08a51a29bf64",
   "metadata": {
    "tags": []
   },
   "outputs": [],
   "source": [
    "import re"
   ]
  },
  {
   "cell_type": "code",
   "execution_count": 2,
   "id": "b0aa9317-4dc9-4cce-9ae8-3f56e2f50a1a",
   "metadata": {
    "tags": []
   },
   "outputs": [],
   "source": [
    "pairs = {\n",
    "        'zero':'0','one':'1','two':'2','three':'3','four':'4',\n",
    "        'five':'5','six':'6','seven':'7','eight':'8','nine':'9'\n",
    "    }\n",
    "\n",
    "numbers = 'one|two|three|four|five|six|seven|eight|nine'"
   ]
  },
  {
   "cell_type": "code",
   "execution_count": 3,
   "id": "ec9159a2-a145-44cb-ba29-75195caa52e9",
   "metadata": {
    "tags": []
   },
   "outputs": [],
   "source": [
    "fileName = 'input'\n",
    "filePath = fileName + '.txt'\n",
    "calibrationSum = 0\n",
    "\n",
    "with open(filePath, 'r') as f:\n",
    "    for line in f:\n",
    "        line_digits = re.findall(r'(?=(\\d|{}))'.format(numbers), line)\n",
    "        digit_list = [pairs.get(digit) if digit in pairs.keys() else digit for digit in line_digits]\n",
    "\n",
    "        if len(digit_list) > 0:\n",
    "            value = int(digit_list[0] + digit_list[-1])\n",
    "        else:\n",
    "            value = 0\n",
    "    \n",
    "        calibrationSum += value\n"
   ]
  },
  {
   "cell_type": "code",
   "execution_count": 5,
   "id": "762935eb-66b0-4364-a0cc-09b14c26aad0",
   "metadata": {},
   "outputs": [
    {
     "name": "stdout",
     "output_type": "stream",
     "text": [
      "55260\n"
     ]
    }
   ],
   "source": [
    "print(calibrationSum)"
   ]
  }
 ],
 "metadata": {
  "kernelspec": {
   "display_name": "Python 3 (ipykernel)",
   "language": "python",
   "name": "python3"
  },
  "language_info": {
   "codemirror_mode": {
    "name": "ipython",
    "version": 3
   },
   "file_extension": ".py",
   "mimetype": "text/x-python",
   "name": "python",
   "nbconvert_exporter": "python",
   "pygments_lexer": "ipython3",
   "version": "3.11.2"
  }
 },
 "nbformat": 4,
 "nbformat_minor": 5
}
