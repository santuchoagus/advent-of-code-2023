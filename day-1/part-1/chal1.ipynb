{
 "cells": [
  {
   "cell_type": "code",
   "execution_count": 45,
   "id": "da0d3b78-de41-43ed-89ca-08a51a29bf64",
   "metadata": {
    "tags": []
   },
   "outputs": [],
   "source": [
    "import re"
   ]
  },
  {
   "cell_type": "code",
   "execution_count": 46,
   "id": "b961fe8f-84d5-463a-b874-42ce64688df3",
   "metadata": {
    "tags": []
   },
   "outputs": [],
   "source": [
    "def firstLastDigitNumber(string):\n",
    "    pairs = re.findall('\\d', string)\n",
    "    \n",
    "    if len(pairs) == 0: return 0\n",
    "    if len(pairs) == 1: return int(2*pairs[0])\n",
    "    if len(pairs) >= 2: return int(pairs[0] + pairs[-1])\n",
    "    return 0"
   ]
  },
  {
   "cell_type": "code",
   "execution_count": 68,
   "id": "ec9159a2-a145-44cb-ba29-75195caa52e9",
   "metadata": {
    "tags": []
   },
   "outputs": [
    {
     "name": "stdout",
     "output_type": "stream",
     "text": [
      "55123\n"
     ]
    }
   ],
   "source": [
    "fileName = 'input'\n",
    "\n",
    "filePath = fileName + '.txt'\n",
    "\n",
    "calibrationSum = 0\n",
    "\n",
    "with open(filePath, 'r') as f:\n",
    "    for line in f:\n",
    "        calibrationSum += firstLastDigitNumber(line)\n",
    "        \n",
    "print(calibrationSum)"
   ]
  }
 ],
 "metadata": {
  "kernelspec": {
   "display_name": "Python 3 (ipykernel)",
   "language": "python",
   "name": "python3"
  },
  "language_info": {
   "codemirror_mode": {
    "name": "ipython",
    "version": 3
   },
   "file_extension": ".py",
   "mimetype": "text/x-python",
   "name": "python",
   "nbconvert_exporter": "python",
   "pygments_lexer": "ipython3",
   "version": "3.11.2"
  }
 },
 "nbformat": 4,
 "nbformat_minor": 5
}
